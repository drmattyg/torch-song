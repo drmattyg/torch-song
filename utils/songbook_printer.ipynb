{
 "cells": [
  {
   "cell_type": "code",
   "execution_count": 7,
   "metadata": {
    "collapsed": false
   },
   "outputs": [],
   "source": [
    "FIELD_ORDER = [\"start_at\", \"time\"]\n",
    "EDGE_FIELD_ORDER = [\"edge\", \"flame\", \"dir\", \"distance\"]\n",
    "INDENT = 2\n",
    "def songbook_printer(y, prefactor=1, file=None, indent=INDENT):\n",
    "    print(\"version: 1.0\", file=file)\n",
    "    if \"author\" in y:\n",
    "        print(\"author: {}\".format(y['author']), file=file)\n",
    "    if \"mp3\" in y:\n",
    "        print(\"mp3: {}\".format(y['mp3']), file=file)\n",
    "    print(\"songbook:\")\n",
    "    for measure in y['songbook']:\n",
    "        tab = \" \"*indent\n",
    "        for ix in range(len(FIELD_ORDER)):\n",
    "            f = FIELD_ORDER[ix]\n",
    "            if ix == 0:\n",
    "                idt = tab + \"- \"\n",
    "            else:\n",
    "                idt = tab + \"  \"\n",
    "            print(\"{}{}: {}\".format(idt, f, measure[f]*prefactor))\n",
    "        print(idt + \"edges:\")\n",
    "        for edge in measure['edges']:\n",
    "            for jx in range(len(EDGE_FIELD_ORDER)):\n",
    "                ef = EDGE_FIELD_ORDER[jx]\n",
    "                etab = \" \"*indent*2\n",
    "                if jx == 0:\n",
    "                    idt = etab + \" - \"\n",
    "                else:\n",
    "                    idt = etab + \"   \"\n",
    "                if ef in edge:                \n",
    "                    print(\"{}{}: {}\".format(idt, ef, edge[ef]))"
   ]
  },
  {
   "cell_type": "code",
   "execution_count": 8,
   "metadata": {
    "collapsed": true
   },
   "outputs": [],
   "source": [
    "import yaml"
   ]
  },
  {
   "cell_type": "code",
   "execution_count": 9,
   "metadata": {
    "collapsed": false
   },
   "outputs": [
    {
     "name": "stdout",
     "output_type": "stream",
     "text": [
      "version: 1.0\n",
      "author: matt@hydrocarboncollective.org\n",
      "songbook:\n",
      "  - start_at: 0\n",
      "    time: 5000\n",
      "    edges:\n",
      "     - edge:7\n",
      "       flame:1\n",
      "       dir:1\n",
      "  - start_at: 5000\n",
      "    time: 5000\n",
      "    edges:\n",
      "     - edge:7\n",
      "       flame:0\n",
      "       dir:-1\n",
      "     - edge:4\n",
      "       flame:1\n",
      "       dir:1\n",
      "  - start_at: 10000\n",
      "    time: 5000\n",
      "    edges:\n",
      "     - edge:4\n",
      "       flame:0\n",
      "       dir:-1\n",
      "     - edge:5\n",
      "       flame:1\n",
      "       dir:1\n",
      "  - start_at: 15000\n",
      "    time: 5000\n",
      "    edges:\n",
      "     - edge:5\n",
      "       flame:0\n",
      "       dir:-1\n",
      "     - edge:0\n",
      "       flame:1\n",
      "       dir:1\n",
      "     - edge:2\n",
      "       flame:0\n",
      "       dir:1\n",
      "  - start_at: 20000\n",
      "    time: 5000\n",
      "    edges:\n",
      "     - edge:2\n",
      "       flame:1\n",
      "       dir:-1\n",
      "     - edge:0\n",
      "       flame:0\n",
      "       dir:-1\n",
      "     - edge:8\n",
      "       flame:0\n",
      "       dir:1\n",
      "  - start_at: 25000\n",
      "    time: 5000\n",
      "    edges:\n",
      "     - edge:8\n",
      "       flame:1\n",
      "       dir:-1\n",
      "     - edge:2\n",
      "       flame:0\n",
      "       dir:0\n",
      "  - start_at: 30000\n",
      "    time: 5000\n",
      "    edges:\n",
      "     - edge:6\n",
      "       flame:1\n",
      "       dir:1\n",
      "     - edge:8\n",
      "       flame:0\n",
      "       dir:0\n",
      "  - start_at: 35000\n",
      "    time: 5000\n",
      "    edges:\n",
      "     - edge:6\n",
      "       flame:0\n",
      "       dir:-1\n",
      "     - edge:3\n",
      "       flame:1\n",
      "       dir:1\n",
      "  - start_at: 40000\n",
      "    time: 5000\n",
      "    edges:\n",
      "     - edge:3\n",
      "       flame:0\n",
      "       dir:-1\n",
      "     - edge:4\n",
      "       flame:1\n",
      "       dir:1\n",
      "  - start_at: 45000\n",
      "    time: 5000\n",
      "    edges:\n",
      "     - edge:4\n",
      "       flame:0\n",
      "       dir:-1\n",
      "     - edge:2\n",
      "       flame:1\n",
      "       dir:1\n"
     ]
    }
   ],
   "source": [
    "songbook_printer(yaml.load(open(\"../songbooks/edge_chaser_1.yml\")), prefactor=10)"
   ]
  },
  {
   "cell_type": "code",
   "execution_count": null,
   "metadata": {
    "collapsed": true
   },
   "outputs": [],
   "source": [
    ""
   ]
  }
 ],
 "metadata": {
  "kernelspec": {
   "display_name": "Python 3",
   "language": "python",
   "name": "python3"
  },
  "language_info": {
   "codemirror_mode": {
    "name": "ipython",
    "version": 3.0
   },
   "file_extension": ".py",
   "mimetype": "text/x-python",
   "name": "python",
   "nbconvert_exporter": "python",
   "pygments_lexer": "ipython3",
   "version": "3.5.1"
  },
  "widgets": {
   "state": {},
   "version": "1.1.2"
  }
 },
 "nbformat": 4,
 "nbformat_minor": 0
}