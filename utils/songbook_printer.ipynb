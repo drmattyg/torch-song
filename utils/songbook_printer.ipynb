{
 "cells": [
  {
   "cell_type": "code",
   "execution_count": 24,
   "metadata": {},
   "outputs": [],
   "source": [
    "FIELD_ORDER = [\"start_at\", \"time\"]\n",
    "EDGE_FIELD_ORDER = [\"edge\", \"flame\", \"dir\", \"distance\"]\n",
    "INDENT = 2\n",
    "def songbook_printer(y, prefactor=1, file=None, indent=INDENT):\n",
    "    print(\"version: 1.0\", file=file)\n",
    "    if \"author\" in y:\n",
    "        print(\"author: {}\".format(y['author']), file=file)\n",
    "    if \"mp3\" in y:\n",
    "        print(\"mp3: {}\".format(y['mp3']), file=file)\n",
    "    print(\"songbook:\", file=file)\n",
    "    for measure in y['songbook']:\n",
    "        tab = \" \"*indent\n",
    "        for ix in range(len(FIELD_ORDER)):\n",
    "            f = FIELD_ORDER[ix]\n",
    "            if ix == 0:\n",
    "                idt = tab + \"- \"\n",
    "            else:\n",
    "                idt = tab + \"  \"\n",
    "            print(\"{}{}: {}\".format(idt, f, measure[f]*prefactor), file=file)\n",
    "        print(idt + \"edges:\", file=file)\n",
    "        for edge in measure['edges']:\n",
    "            for jx in range(len(EDGE_FIELD_ORDER)):\n",
    "                ef = EDGE_FIELD_ORDER[jx]\n",
    "                etab = \" \"*indent*2\n",
    "                if jx == 0:\n",
    "                    idt = etab + \" - \"\n",
    "                else:\n",
    "                    idt = etab + \"   \"\n",
    "                if ef in edge:                \n",
    "                    print(\"{}{}: {}\".format(idt, ef, edge[ef]), file=file)"
   ]
  },
  {
   "cell_type": "code",
   "execution_count": 2,
   "metadata": {
    "collapsed": true
   },
   "outputs": [],
   "source": [
    "import yaml"
   ]
  },
  {
   "cell_type": "code",
   "execution_count": 21,
   "metadata": {},
   "outputs": [],
   "source": [
    "sb = yaml.load(open(\"../songbooks/send_in_the_clowns.yml\").read())"
   ]
  },
  {
   "cell_type": "code",
   "execution_count": 26,
   "metadata": {},
   "outputs": [],
   "source": [
    "import pyperclip\n",
    "from io import StringIO"
   ]
  },
  {
   "cell_type": "code",
   "execution_count": 29,
   "metadata": {},
   "outputs": [],
   "source": [
    "f = StringIO()\n",
    "songbook_printer(sb, prefactor=0.3, file=f)\n",
    "pyperclip.copy(f.getvalue())"
   ]
  },
  {
   "cell_type": "code",
   "execution_count": null,
   "metadata": {
    "collapsed": true
   },
   "outputs": [],
   "source": []
  }
 ],
 "metadata": {
  "kernelspec": {
   "display_name": "Python 3",
   "language": "python",
   "name": "python3"
  },
  "language_info": {
   "codemirror_mode": {
    "name": "ipython",
    "version": 3
   },
   "file_extension": ".py",
   "mimetype": "text/x-python",
   "name": "python",
   "nbconvert_exporter": "python",
   "pygments_lexer": "ipython3",
   "version": "3.5.4"
  },
  "widgets": {
   "state": {},
   "version": "1.1.2"
  }
 },
 "nbformat": 4,
 "nbformat_minor": 1
}
